{
 "cells": [
  {
   "cell_type": "markdown",
   "metadata": {},
   "source": [
    "# MultiQC Jupyter Notebook Example\n",
    "\n",
    "This notebook has some example code showing how MultiQC can be used within an interactive analysis, such as a Jupyter Notebook.\n",
    "\n",
    "MultiQC is written in Python, so must be used in a Python environment. If possible, Python 3.5 or later is recommended. MultiQC can be installed in a variety of ways: see [the documentation](https://multiqc.info/docs/#installing-multiqc) for more information. Note that MultiQC must be installed into the notebook _kernal_.\n",
    "\n",
    "First, let's install MultiQC using pip (note the `%` magic which installs the package into the kernel and not the jupyter environment).\n",
    "\n",
    "> NB: Support for imports is only available from v1.8 of MultiQC. At the time of writing this is not yet released, so we will install the development version directly from GitHub."
   ]
  },
  {
   "cell_type": "code",
   "execution_count": null,
   "metadata": {},
   "outputs": [],
   "source": [
    "%pip install --force-reinstall --upgrade git+https://github.com/ewels/MultiQC.git"
   ]
  },
  {
   "cell_type": "markdown",
   "metadata": {},
   "source": [
    "> NB: You will probably need to restart the notebook kernal after installing MultiQC\n",
    "\n",
    "Now let's import the `multiqc` package into your workbook:"
   ]
  },
  {
   "cell_type": "code",
   "execution_count": null,
   "metadata": {},
   "outputs": [],
   "source": [
    "import multiqc"
   ]
  },
  {
   "cell_type": "markdown",
   "metadata": {},
   "source": [
    "Great! Now let's check that it's working properly by printing the version that we're using:"
   ]
  },
  {
   "cell_type": "code",
   "execution_count": null,
   "metadata": {},
   "outputs": [],
   "source": [
    "print(multiqc.__version__)"
   ]
  },
  {
   "cell_type": "markdown",
   "metadata": {},
   "source": [
    "Before we can use any outputs from MultiQC, we must first run it on some data. The [MultiQC website](https://multiqc.info/) has the logs used for all of the example reports on the homepage available for download, so let's grab the files for the RNA-seq report."
   ]
  },
  {
   "cell_type": "code",
   "execution_count": null,
   "metadata": {},
   "outputs": [],
   "source": [
    "!wget https://multiqc.info/examples/rna-seq/data.zip\n",
    "!unzip -o data.zip\n",
    "!rm data.zip"
   ]
  },
  {
   "cell_type": "markdown",
   "metadata": {},
   "source": [
    "You should now see a folder called `data/` in your notebook work directory with a bunch of log files within from a typical RNA-seq analysis run.\n",
    "\n",
    "Now let's run MultiQC on those files."
   ]
  },
  {
   "cell_type": "code",
   "execution_count": null,
   "metadata": {},
   "outputs": [],
   "source": [
    "multiqc.run('./data/')"
   ]
  },
  {
   "cell_type": "markdown",
   "metadata": {},
   "source": [
    "Ok great! Now we have a report, we can show it inside the notebook.\n",
    "\n",
    "> Note that we can use either `IFrame` or not `HTML`. Google Colab doesn't like to render files in iframes and HTML embedding seems to work fine. When running Jupyter Lab locally the notebook CSS and JavaScript interacts with the report and breaks stuff though, so IFrame is better if you can use it."
   ]
  },
  {
   "cell_type": "code",
   "execution_count": null,
   "metadata": {},
   "outputs": [],
   "source": [
    "import IPython\n",
    "\n",
    "# Best if using Google Colab\n",
    "IPython.display.HTML(filename='./multiqc_report.html')\n",
    "\n",
    "# Best if running locally\n",
    "# IPython.display.IFrame('./multiqc_report.html', '100%', 600)"
   ]
  }
 ],
 "metadata": {
  "kernelspec": {
   "display_name": "Python 3",
   "language": "python",
   "name": "python3"
  },
  "language_info": {
   "codemirror_mode": {
    "name": "ipython",
    "version": 3
   },
   "file_extension": ".py",
   "mimetype": "text/x-python",
   "name": "python",
   "nbconvert_exporter": "python",
   "pygments_lexer": "ipython3",
   "version": "3.6.7"
  }
 },
 "nbformat": 4,
 "nbformat_minor": 4
}
