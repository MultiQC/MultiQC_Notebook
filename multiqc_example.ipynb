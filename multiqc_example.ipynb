{
 "cells": [
  {
   "cell_type": "markdown",
   "metadata": {},
   "source": [
    "# MultiQC Jupyter Notebook Example\n",
    "\n",
    "This notebook has some example code showing how MultiQC can be used within an interactive analysis, such as a Jupyter Notebook.\n",
    "\n",
    "MultiQC is written in Python, so must be used in a Python environment. If possible, Python 3.5 or later is recommended. MultiQC can be installed in a variety of ways: see [the documentation](https://multiqc.info/docs/#installing-multiqc) for more information. Note that MultiQC must be installed into the notebook _kernal_.\n",
    "\n",
    "First, let's install MultiQC using pip (note the `%` magic which installs the package into the kernel and not the jupyter environment).\n",
    "\n",
    "> NB: Support for imports is only available from v1.8 of MultiQC. At the time of writing this is not yet released, so we will install the development version directly from GitHub."
   ]
  },
  {
   "cell_type": "code",
   "execution_count": 1,
   "metadata": {
    "collapsed": true,
    "jupyter": {
     "outputs_hidden": true
    }
   },
   "outputs": [
    {
     "name": "stdout",
     "output_type": "stream",
     "text": [
      "Collecting git+https://github.com/ewels/MultiQC.git\n",
      "  Cloning https://github.com/ewels/MultiQC.git to /private/var/folders/tk/k7tjvpqs0tbfd0bzvt4htrzh0000gn/T/pip-req-build-_gly3u7p\n",
      "  Running command git clone -q https://github.com/ewels/MultiQC.git /private/var/folders/tk/k7tjvpqs0tbfd0bzvt4htrzh0000gn/T/pip-req-build-_gly3u7p\n",
      "  Running command git submodule update --init --recursive -q\n",
      "Requirement already satisfied, skipping upgrade: click in /Users/philewels/miniconda2/envs/altair/lib/python3.6/site-packages/Click-7.0-py3.6.egg (from multiqc==1.8.dev0) (7.0)\n",
      "Requirement already satisfied, skipping upgrade: coloredlogs in /Users/philewels/miniconda2/envs/altair/lib/python3.6/site-packages/coloredlogs-10.0-py3.6.egg (from multiqc==1.8.dev0) (10.0)\n",
      "Requirement already satisfied, skipping upgrade: future>0.14.0 in /Users/philewels/miniconda2/envs/altair/lib/python3.6/site-packages/future-0.18.2-py3.6.egg (from multiqc==1.8.dev0) (0.18.2)\n",
      "Requirement already satisfied, skipping upgrade: jinja2>=2.9 in /Users/philewels/miniconda2/envs/altair/lib/python3.6/site-packages (from multiqc==1.8.dev0) (2.10.1)\n",
      "Requirement already satisfied, skipping upgrade: lzstring in /Users/philewels/miniconda2/envs/altair/lib/python3.6/site-packages/lzstring-1.0.4-py3.6.egg (from multiqc==1.8.dev0) (1.0.4)\n",
      "Requirement already satisfied, skipping upgrade: markdown in /Users/philewels/miniconda2/envs/altair/lib/python3.6/site-packages/Markdown-3.1.1-py3.6.egg (from multiqc==1.8.dev0) (3.1.1)\n",
      "Requirement already satisfied, skipping upgrade: matplotlib<3.1.0,>=2.1.1 in /Users/philewels/miniconda2/envs/altair/lib/python3.6/site-packages/matplotlib-3.0.3-py3.6-macosx-10.7-x86_64.egg (from multiqc==1.8.dev0) (3.0.3)\n",
      "Requirement already satisfied, skipping upgrade: networkx in /Users/philewels/miniconda2/envs/altair/lib/python3.6/site-packages/networkx-2.4-py3.6.egg (from multiqc==1.8.dev0) (2.4)\n",
      "Requirement already satisfied, skipping upgrade: numpy in /Users/philewels/miniconda2/envs/altair/lib/python3.6/site-packages (from multiqc==1.8.dev0) (1.16.3)\n",
      "Requirement already satisfied, skipping upgrade: pyyaml>=4 in /Users/philewels/miniconda2/envs/altair/lib/python3.6/site-packages/PyYAML-5.1.2-py3.6-macosx-10.7-x86_64.egg (from multiqc==1.8.dev0) (5.1.2)\n",
      "Requirement already satisfied, skipping upgrade: requests in /Users/philewels/miniconda2/envs/altair/lib/python3.6/site-packages/requests-2.22.0-py3.6.egg (from multiqc==1.8.dev0) (2.22.0)\n",
      "Requirement already satisfied, skipping upgrade: simplejson in /Users/philewels/miniconda2/envs/altair/lib/python3.6/site-packages/simplejson-3.16.0-py3.6-macosx-10.7-x86_64.egg (from multiqc==1.8.dev0) (3.16.0)\n",
      "Requirement already satisfied, skipping upgrade: spectra>=0.0.10 in /Users/philewels/miniconda2/envs/altair/lib/python3.6/site-packages/spectra-0.0.11-py3.6.egg (from multiqc==1.8.dev0) (0.0.11)\n",
      "Requirement already satisfied, skipping upgrade: humanfriendly>=4.7 in /Users/philewels/miniconda2/envs/altair/lib/python3.6/site-packages/humanfriendly-4.18-py3.6.egg (from coloredlogs->multiqc==1.8.dev0) (4.18)\n",
      "Requirement already satisfied, skipping upgrade: MarkupSafe>=0.23 in /Users/philewels/miniconda2/envs/altair/lib/python3.6/site-packages (from jinja2>=2.9->multiqc==1.8.dev0) (1.1.1)\n",
      "Requirement already satisfied, skipping upgrade: setuptools>=36 in /Users/philewels/miniconda2/envs/altair/lib/python3.6/site-packages (from markdown->multiqc==1.8.dev0) (41.0.1)\n",
      "Requirement already satisfied, skipping upgrade: cycler>=0.10 in /Users/philewels/miniconda2/envs/altair/lib/python3.6/site-packages/cycler-0.10.0-py3.6.egg (from matplotlib<3.1.0,>=2.1.1->multiqc==1.8.dev0) (0.10.0)\n",
      "Requirement already satisfied, skipping upgrade: kiwisolver>=1.0.1 in /Users/philewels/miniconda2/envs/altair/lib/python3.6/site-packages/kiwisolver-1.1.0-py3.6-macosx-10.7-x86_64.egg (from matplotlib<3.1.0,>=2.1.1->multiqc==1.8.dev0) (1.1.0)\n",
      "Requirement already satisfied, skipping upgrade: pyparsing!=2.0.4,!=2.1.2,!=2.1.6,>=2.0.1 in /Users/philewels/miniconda2/envs/altair/lib/python3.6/site-packages/pyparsing-2.4.5-py3.6.egg (from matplotlib<3.1.0,>=2.1.1->multiqc==1.8.dev0) (2.4.5)\n",
      "Requirement already satisfied, skipping upgrade: python-dateutil>=2.1 in /Users/philewels/miniconda2/envs/altair/lib/python3.6/site-packages (from matplotlib<3.1.0,>=2.1.1->multiqc==1.8.dev0) (2.8.0)\n",
      "Requirement already satisfied, skipping upgrade: decorator>=4.3.0 in /Users/philewels/miniconda2/envs/altair/lib/python3.6/site-packages (from networkx->multiqc==1.8.dev0) (4.4.0)\n",
      "Requirement already satisfied, skipping upgrade: certifi>=2017.4.17 in /Users/philewels/miniconda2/envs/altair/lib/python3.6/site-packages (from requests->multiqc==1.8.dev0) (2019.3.9)\n",
      "Requirement already satisfied, skipping upgrade: chardet<3.1.0,>=3.0.2 in /Users/philewels/miniconda2/envs/altair/lib/python3.6/site-packages/chardet-3.0.4-py3.6.egg (from requests->multiqc==1.8.dev0) (3.0.4)\n",
      "Requirement already satisfied, skipping upgrade: idna<2.9,>=2.5 in /Users/philewels/miniconda2/envs/altair/lib/python3.6/site-packages/idna-2.8-py3.6.egg (from requests->multiqc==1.8.dev0) (2.8)\n",
      "Requirement already satisfied, skipping upgrade: urllib3!=1.25.0,!=1.25.1,<1.26,>=1.21.1 in /Users/philewels/miniconda2/envs/altair/lib/python3.6/site-packages/urllib3-1.25.6-py3.6.egg (from requests->multiqc==1.8.dev0) (1.25.6)\n",
      "Requirement already satisfied, skipping upgrade: colormath>=3.0.0 in /Users/philewels/miniconda2/envs/altair/lib/python3.6/site-packages/colormath-3.0.0-py3.6.egg (from spectra>=0.0.10->multiqc==1.8.dev0) (3.0.0)\n",
      "Requirement already satisfied, skipping upgrade: six in /Users/philewels/miniconda2/envs/altair/lib/python3.6/site-packages (from cycler>=0.10->matplotlib<3.1.0,>=2.1.1->multiqc==1.8.dev0) (1.12.0)\n",
      "Building wheels for collected packages: multiqc\n",
      "  Building wheel for multiqc (setup.py) ... \u001b[?25ldone\n",
      "\u001b[?25h  Stored in directory: /private/var/folders/tk/k7tjvpqs0tbfd0bzvt4htrzh0000gn/T/pip-ephem-wheel-cache-jp0doza9/wheels/6b/46/2f/3efddef001e00a278ecc722a2caa45b408c684b363ce55678b\n",
      "Successfully built multiqc\n",
      "Installing collected packages: multiqc\n",
      "  Found existing installation: multiqc 1.8.dev0\n",
      "\u001b[31mERROR: Exception:\n",
      "Traceback (most recent call last):\n",
      "  File \"/Users/philewels/miniconda2/envs/altair/lib/python3.6/site-packages/pip/_internal/cli/base_command.py\", line 178, in main\n",
      "    status = self.run(options, args)\n",
      "  File \"/Users/philewels/miniconda2/envs/altair/lib/python3.6/site-packages/pip/_internal/commands/install.py\", line 414, in run\n",
      "    use_user_site=options.use_user_site,\n",
      "  File \"/Users/philewels/miniconda2/envs/altair/lib/python3.6/site-packages/pip/_internal/req/__init__.py\", line 51, in install_given_reqs\n",
      "    auto_confirm=True\n",
      "  File \"/Users/philewels/miniconda2/envs/altair/lib/python3.6/site-packages/pip/_internal/req/req_install.py\", line 824, in uninstall\n",
      "    uninstalled_pathset = UninstallPathSet.from_dist(dist)\n",
      "  File \"/Users/philewels/miniconda2/envs/altair/lib/python3.6/site-packages/pip/_internal/req/req_uninstall.py\", line 538, in from_dist\n",
      "    '(at %s)' % (link_pointer, dist.project_name, dist.location)\n",
      "AssertionError: Egg-link /Users/philewels/GitHub/MultiQC does not match installed location of multiqc (at /Users/philewels/GitHub/MultiQC_Notebook)\u001b[0m\n",
      "Note: you may need to restart the kernel to use updated packages.\n"
     ]
    }
   ],
   "source": [
    "%pip install --upgrade git+https://github.com/ewels/MultiQC.git"
   ]
  },
  {
   "cell_type": "markdown",
   "metadata": {},
   "source": [
    "> NB: You will probably need to restart the notebook kernal after installing MultiQC\n",
    "\n",
    "Now let's import the `multiqc` package into your workbook:"
   ]
  },
  {
   "cell_type": "code",
   "execution_count": 2,
   "metadata": {},
   "outputs": [],
   "source": [
    "import multiqc"
   ]
  },
  {
   "cell_type": "markdown",
   "metadata": {},
   "source": [
    "Great! Now let's check that it's working properly by printing the version that we're using:"
   ]
  },
  {
   "cell_type": "code",
   "execution_count": 3,
   "metadata": {},
   "outputs": [
    {
     "name": "stdout",
     "output_type": "stream",
     "text": [
      "1.8.dev0 (25aafd9)\n"
     ]
    }
   ],
   "source": [
    "print(multiqc.__version__)"
   ]
  },
  {
   "cell_type": "markdown",
   "metadata": {},
   "source": [
    "Before we can use any outputs from MultiQC, we must first run it on some data. The [MultiQC website](https://multiqc.info/) has the logs used for all of the example reports on the homepage available for download, so let's grab the files for the RNA-seq report."
   ]
  },
  {
   "cell_type": "code",
   "execution_count": 4,
   "metadata": {
    "collapsed": true,
    "jupyter": {
     "outputs_hidden": true
    }
   },
   "outputs": [
    {
     "name": "stdout",
     "output_type": "stream",
     "text": [
      "--2019-11-11 15:13:41--  https://multiqc.info/examples/rna-seq/data.zip\n",
      "Resolving multiqc.info (multiqc.info)... 91.238.163.174\n",
      "Connecting to multiqc.info (multiqc.info)|91.238.163.174|:443... connected.\n",
      "HTTP request sent, awaiting response... 200 OK\n",
      "Length: 18549188 (18M) [application/zip]\n",
      "Saving to: ‘data.zip’\n",
      "\n",
      "data.zip            100%[===================>]  17.69M  7.59MB/s    in 2.3s    \n",
      "\n",
      "2019-11-11 15:13:43 (7.59 MB/s) - ‘data.zip’ saved [18549188/18549188]\n",
      "\n",
      "Archive:  data.zip\n",
      "  inflating: data/fastqc_theoretical_gc_hg38_txome.txt  \n",
      "  inflating: data/SRR3192396_1.fastq.gz_trimming_report.txt  \n",
      "  inflating: data/SRR3192396_1_fastqc.html  \n",
      "  inflating: data/SRR3192396_1_fastqc.zip  \n",
      "  inflating: data/SRR3192396_1_star_aligned.bam_counts.txt.summary  \n",
      "  inflating: data/SRR3192396_1_val_1_fastqc.html  \n",
      "  inflating: data/SRR3192396_1_val_1_fastqc.zip  \n",
      "  inflating: data/SRR3192396_1Log.final.out  \n",
      "  inflating: data/SRR3192396_1Log.out  \n",
      "  inflating: data/SRR3192396_1Log.progress.out  \n",
      "  inflating: data/SRR3192396_1Log.std.out  \n",
      "  inflating: data/SRR3192396_2.fastq.gz_trimming_report.txt  \n",
      "  inflating: data/SRR3192396_2_fastqc.html  \n",
      "  inflating: data/SRR3192396_2_fastqc.zip  \n",
      "  inflating: data/SRR3192396_2_val_2_fastqc.html  \n",
      "  inflating: data/SRR3192396_2_val_2_fastqc.zip  \n",
      "  inflating: data/SRR3192397_1.fastq.gz_trimming_report.txt  \n",
      "  inflating: data/SRR3192397_1_fastqc.html  \n",
      "  inflating: data/SRR3192397_1_fastqc.zip  \n",
      "  inflating: data/SRR3192397_1_star_aligned.bam_counts.txt.summary  \n",
      "  inflating: data/SRR3192397_1_val_1_fastqc.html  \n",
      "  inflating: data/SRR3192397_1_val_1_fastqc.zip  \n",
      "  inflating: data/SRR3192397_1Log.final.out  \n",
      "  inflating: data/SRR3192397_1Log.out  \n",
      "  inflating: data/SRR3192397_1Log.progress.out  \n",
      "  inflating: data/SRR3192397_1Log.std.out  \n",
      "  inflating: data/SRR3192397_2.fastq.gz_trimming_report.txt  \n",
      "  inflating: data/SRR3192397_2_fastqc.html  \n",
      "  inflating: data/SRR3192397_2_fastqc.zip  \n",
      "  inflating: data/SRR3192397_2_val_2_fastqc.html  \n",
      "  inflating: data/SRR3192397_2_val_2_fastqc.zip  \n",
      "  inflating: data/SRR3192398_1.fastq.gz_trimming_report.txt  \n",
      "  inflating: data/SRR3192398_1_fastqc.html  \n",
      "  inflating: data/SRR3192398_1_fastqc.zip  \n",
      "  inflating: data/SRR3192398_1_star_aligned.bam_counts.txt.summary  \n",
      "  inflating: data/SRR3192398_1_val_1_fastqc.html  \n",
      "  inflating: data/SRR3192398_1_val_1_fastqc.zip  \n",
      "  inflating: data/SRR3192398_1Log.final.out  \n",
      "  inflating: data/SRR3192398_1Log.out  \n",
      "  inflating: data/SRR3192398_1Log.progress.out  \n",
      "  inflating: data/SRR3192398_1Log.std.out  \n",
      "  inflating: data/SRR3192398_2.fastq.gz_trimming_report.txt  \n",
      "  inflating: data/SRR3192398_2_fastqc.html  \n",
      "  inflating: data/SRR3192398_2_fastqc.zip  \n",
      "  inflating: data/SRR3192398_2_val_2_fastqc.html  \n",
      "  inflating: data/SRR3192398_2_val_2_fastqc.zip  \n",
      "  inflating: data/SRR3192399_1.fastq.gz_trimming_report.txt  \n",
      "  inflating: data/SRR3192399_1_fastqc.html  \n",
      "  inflating: data/SRR3192399_1_fastqc.zip  \n",
      "  inflating: data/SRR3192399_1_star_aligned.bam_counts.txt.summary  \n",
      "  inflating: data/SRR3192399_1_val_1_fastqc.html  \n",
      "  inflating: data/SRR3192399_1_val_1_fastqc.zip  \n",
      "  inflating: data/SRR3192399_1Log.final.out  \n",
      "  inflating: data/SRR3192399_1Log.out  \n",
      "  inflating: data/SRR3192399_1Log.progress.out  \n",
      "  inflating: data/SRR3192399_1Log.std.out  \n",
      "  inflating: data/SRR3192399_2.fastq.gz_trimming_report.txt  \n",
      "  inflating: data/SRR3192399_2_fastqc.html  \n",
      "  inflating: data/SRR3192399_2_fastqc.zip  \n",
      "  inflating: data/SRR3192399_2_val_2_fastqc.html  \n",
      "  inflating: data/SRR3192399_2_val_2_fastqc.zip  \n",
      "  inflating: data/SRR3192400_1.fastq.gz_trimming_report.txt  \n",
      "  inflating: data/SRR3192400_1_fastqc.html  \n",
      "  inflating: data/SRR3192400_1_fastqc.zip  \n",
      "  inflating: data/SRR3192400_1_star_aligned.bam_counts.txt.summary  \n",
      "  inflating: data/SRR3192400_1_val_1_fastqc.html  \n",
      "  inflating: data/SRR3192400_1_val_1_fastqc.zip  \n",
      "  inflating: data/SRR3192400_1Log.final.out  \n",
      "  inflating: data/SRR3192400_1Log.out  \n",
      "  inflating: data/SRR3192400_1Log.progress.out  \n",
      "  inflating: data/SRR3192400_1Log.std.out  \n",
      "  inflating: data/SRR3192400_2.fastq.gz_trimming_report.txt  \n",
      "  inflating: data/SRR3192400_2_fastqc.html  \n",
      "  inflating: data/SRR3192400_2_fastqc.zip  \n",
      "  inflating: data/SRR3192400_2_val_2_fastqc.html  \n",
      "  inflating: data/SRR3192400_2_val_2_fastqc.zip  \n",
      "  inflating: data/SRR3192401_1.fastq.gz_trimming_report.txt  \n",
      "  inflating: data/SRR3192401_1_fastqc.html  \n",
      "  inflating: data/SRR3192401_1_fastqc.zip  \n",
      "  inflating: data/SRR3192401_1_star_aligned.bam_counts.txt.summary  \n",
      "  inflating: data/SRR3192401_1_val_1_fastqc.html  \n",
      "  inflating: data/SRR3192401_1_val_1_fastqc.zip  \n",
      "  inflating: data/SRR3192401_1Log.final.out  \n",
      "  inflating: data/SRR3192401_1Log.out  \n",
      "  inflating: data/SRR3192401_1Log.progress.out  \n",
      "  inflating: data/SRR3192401_1Log.std.out  \n",
      "  inflating: data/SRR3192401_2.fastq.gz_trimming_report.txt  \n",
      "  inflating: data/SRR3192401_2_fastqc.html  \n",
      "  inflating: data/SRR3192401_2_fastqc.zip  \n",
      "  inflating: data/SRR3192401_2_val_2_fastqc.html  \n",
      "  inflating: data/SRR3192401_2_val_2_fastqc.zip  \n",
      "  inflating: data/SRR3192657_1.fastq.gz_trimming_report.txt  \n",
      "  inflating: data/SRR3192657_1_fastqc.html  \n",
      "  inflating: data/SRR3192657_1_fastqc.zip  \n",
      "  inflating: data/SRR3192657_1_star_aligned.bam_counts.txt.summary  \n",
      "  inflating: data/SRR3192657_1_val_1_fastqc.html  \n",
      "  inflating: data/SRR3192657_1_val_1_fastqc.zip  \n",
      "  inflating: data/SRR3192657_1Log.final.out  \n",
      "  inflating: data/SRR3192657_1Log.out  \n",
      "  inflating: data/SRR3192657_1Log.progress.out  \n",
      "  inflating: data/SRR3192657_1Log.std.out  \n",
      "  inflating: data/SRR3192657_2.fastq.gz_trimming_report.txt  \n",
      "  inflating: data/SRR3192657_2_fastqc.html  \n",
      "  inflating: data/SRR3192657_2_fastqc.zip  \n",
      "  inflating: data/SRR3192657_2_val_2_fastqc.html  \n",
      "  inflating: data/SRR3192657_2_val_2_fastqc.zip  \n",
      "  inflating: data/SRR3192658_1.fastq.gz_trimming_report.txt  \n",
      "  inflating: data/SRR3192658_1_fastqc.html  \n",
      "  inflating: data/SRR3192658_1_fastqc.zip  \n",
      "  inflating: data/SRR3192658_1_star_aligned.bam_counts.txt.summary  \n",
      "  inflating: data/SRR3192658_1_val_1_fastqc.html  \n",
      "  inflating: data/SRR3192658_1_val_1_fastqc.zip  \n",
      "  inflating: data/SRR3192658_1Log.final.out  \n",
      "  inflating: data/SRR3192658_1Log.out  \n",
      "  inflating: data/SRR3192658_1Log.progress.out  \n",
      "  inflating: data/SRR3192658_1Log.std.out  \n",
      "  inflating: data/SRR3192658_2.fastq.gz_trimming_report.txt  \n",
      "  inflating: data/SRR3192658_2_fastqc.html  \n",
      "  inflating: data/SRR3192658_2_fastqc.zip  \n",
      "  inflating: data/SRR3192658_2_val_2_fastqc.html  \n",
      "  inflating: data/SRR3192658_2_val_2_fastqc.zip  \n"
     ]
    }
   ],
   "source": [
    "!wget https://multiqc.info/examples/rna-seq/data.zip\n",
    "!unzip -o data.zip\n",
    "!rm data.zip"
   ]
  },
  {
   "cell_type": "markdown",
   "metadata": {},
   "source": [
    "You should now see a folder called `data/` in your notebook work directory with a bunch of log files within from a typical RNA-seq analysis run.\n",
    "\n",
    "Now let's run MultiQC on those files:"
   ]
  },
  {
   "cell_type": "code",
   "execution_count": 5,
   "metadata": {},
   "outputs": [
    {
     "name": "stderr",
     "output_type": "stream",
     "text": [
      "Usage: ipykernel_launcher.py [OPTIONS] <analysis directory>\n",
      "Try \"ipykernel_launcher.py -h\" for help.\n",
      "\n",
      "Error: Invalid value for \"<analysis directory>\": Path \"d\" does not exist.\n"
     ]
    },
    {
     "ename": "SystemExit",
     "evalue": "2",
     "output_type": "error",
     "traceback": [
      "An exception has occurred, use %tb to see the full traceback.\n",
      "\u001b[0;31mSystemExit\u001b[0m\u001b[0;31m:\u001b[0m 2\n"
     ]
    },
    {
     "name": "stderr",
     "output_type": "stream",
     "text": [
      "/Users/philewels/miniconda2/envs/altair/lib/python3.6/site-packages/IPython/core/interactiveshell.py:3304: UserWarning: To exit: use 'exit', 'quit', or Ctrl-D.\n",
      "  warn(\"To exit: use 'exit', 'quit', or Ctrl-D.\", stacklevel=1)\n"
     ]
    }
   ],
   "source": [
    "multiqc.run('./data/')"
   ]
  },
  {
   "cell_type": "code",
   "execution_count": null,
   "metadata": {},
   "outputs": [],
   "source": []
  }
 ],
 "metadata": {
  "kernelspec": {
   "display_name": "Python 3",
   "language": "python",
   "name": "python3"
  },
  "language_info": {
   "codemirror_mode": {
    "name": "ipython",
    "version": 3
   },
   "file_extension": ".py",
   "mimetype": "text/x-python",
   "name": "python",
   "nbconvert_exporter": "python",
   "pygments_lexer": "ipython3",
   "version": "3.6.7"
  }
 },
 "nbformat": 4,
 "nbformat_minor": 4
}
