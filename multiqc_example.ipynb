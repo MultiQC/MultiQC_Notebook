{
 "cells": [
  {
   "cell_type": "markdown",
   "metadata": {},
   "source": [
    "# MultiQC Jupyter Notebook Example\n",
    "\n",
    "This notebook has some example code showing how MultiQC can be used within an interactive analysis, such as a Jupyter Notebook.\n",
    "\n",
    "MultiQC is written in Python, so must be used in a Python environment. If possible, Python 3.5 or later is recommended. MultiQC can be installed in a variety of ways: see [the documentation](https://multiqc.info/docs/#installing-multiqc) for more information. Note that MultiQC must be installed into the notebook _kernal_.\n",
    "\n",
    "First, let's install MultiQC using pip (note the `%` magic which installs the package into the kernel and not the jupyter environment).\n",
    "\n",
    "> NB: Support for imports is only available from v1.8 of MultiQC. At the time of writing this is not yet released, so we will install the development version directly from GitHub."
   ]
  },
  {
   "cell_type": "code",
   "execution_count": 1,
   "metadata": {
    "collapsed": true,
    "jupyter": {
     "outputs_hidden": true
    }
   },
   "outputs": [
    {
     "name": "stdout",
     "output_type": "stream",
     "text": [
      "Collecting git+https://github.com/ewels/MultiQC.git\n",
      "  Cloning https://github.com/ewels/MultiQC.git to /private/var/folders/tk/k7tjvpqs0tbfd0bzvt4htrzh0000gn/T/pip-req-build-f624acme\n",
      "  Running command git clone -q https://github.com/ewels/MultiQC.git /private/var/folders/tk/k7tjvpqs0tbfd0bzvt4htrzh0000gn/T/pip-req-build-f624acme\n",
      "  Running command git submodule update --init --recursive -q\n",
      "Collecting click (from multiqc==1.8.dev0)\n",
      "  Using cached https://files.pythonhosted.org/packages/fa/37/45185cb5abbc30d7257104c434fe0b07e5a195a6847506c074527aa599ec/Click-7.0-py2.py3-none-any.whl\n",
      "Collecting coloredlogs (from multiqc==1.8.dev0)\n",
      "  Using cached https://files.pythonhosted.org/packages/08/0f/7877fc42fff0b9d70b6442df62d53b3868d3a6ad1b876bdb54335b30ff23/coloredlogs-10.0-py2.py3-none-any.whl\n",
      "Collecting future>0.14.0 (from multiqc==1.8.dev0)\n",
      "Collecting jinja2>=2.9 (from multiqc==1.8.dev0)\n",
      "  Using cached https://files.pythonhosted.org/packages/65/e0/eb35e762802015cab1ccee04e8a277b03f1d8e53da3ec3106882ec42558b/Jinja2-2.10.3-py2.py3-none-any.whl\n",
      "Collecting lzstring (from multiqc==1.8.dev0)\n",
      "Collecting markdown (from multiqc==1.8.dev0)\n",
      "  Using cached https://files.pythonhosted.org/packages/c0/4e/fd492e91abdc2d2fcb70ef453064d980688762079397f779758e055f6575/Markdown-3.1.1-py2.py3-none-any.whl\n",
      "Collecting matplotlib<3.1.0,>=2.1.1 (from multiqc==1.8.dev0)\n",
      "  Using cached https://files.pythonhosted.org/packages/82/7e/184d995d711e3401722769cd6982b46d42aee14a82ba54a3a79425f939c9/matplotlib-3.0.3-cp36-cp36m-macosx_10_6_intel.macosx_10_9_intel.macosx_10_9_x86_64.macosx_10_10_intel.macosx_10_10_x86_64.whl\n",
      "Collecting networkx (from multiqc==1.8.dev0)\n",
      "  Using cached https://files.pythonhosted.org/packages/41/8f/dd6a8e85946def36e4f2c69c84219af0fa5e832b018c970e92f2ad337e45/networkx-2.4-py3-none-any.whl\n",
      "Collecting numpy (from multiqc==1.8.dev0)\n",
      "  Using cached https://files.pythonhosted.org/packages/22/99/36e3408ae2cb8b72260de4e538196d17736d7fb82a1086cb2c21ee156ddc/numpy-1.17.4-cp36-cp36m-macosx_10_9_x86_64.whl\n",
      "Collecting pyyaml>=4 (from multiqc==1.8.dev0)\n",
      "Collecting requests (from multiqc==1.8.dev0)\n",
      "  Using cached https://files.pythonhosted.org/packages/51/bd/23c926cd341ea6b7dd0b2a00aba99ae0f828be89d72b2190f27c11d4b7fb/requests-2.22.0-py2.py3-none-any.whl\n",
      "Collecting simplejson (from multiqc==1.8.dev0)\n",
      "Collecting spectra>=0.0.10 (from multiqc==1.8.dev0)\n",
      "Collecting humanfriendly>=4.7 (from coloredlogs->multiqc==1.8.dev0)\n",
      "  Using cached https://files.pythonhosted.org/packages/90/df/88bff450f333114680698dc4aac7506ff7cab164b794461906de31998665/humanfriendly-4.18-py2.py3-none-any.whl\n",
      "Collecting MarkupSafe>=0.23 (from jinja2>=2.9->multiqc==1.8.dev0)\n",
      "  Using cached https://files.pythonhosted.org/packages/f0/00/a6aea33f5598b080b86d6b6d1214b51afe3ffa6100b902d5aa465080083f/MarkupSafe-1.1.1-cp36-cp36m-macosx_10_6_intel.whl\n",
      "Collecting setuptools>=36 (from markdown->multiqc==1.8.dev0)\n",
      "  Using cached https://files.pythonhosted.org/packages/d9/de/554b6310ac87c5b921bc45634b07b11394fe63bc4cb5176f5240addf18ab/setuptools-41.6.0-py2.py3-none-any.whl\n",
      "Collecting cycler>=0.10 (from matplotlib<3.1.0,>=2.1.1->multiqc==1.8.dev0)\n",
      "  Using cached https://files.pythonhosted.org/packages/f7/d2/e07d3ebb2bd7af696440ce7e754c59dd546ffe1bbe732c8ab68b9c834e61/cycler-0.10.0-py2.py3-none-any.whl\n",
      "Collecting pyparsing!=2.0.4,!=2.1.2,!=2.1.6,>=2.0.1 (from matplotlib<3.1.0,>=2.1.1->multiqc==1.8.dev0)\n",
      "  Using cached https://files.pythonhosted.org/packages/c0/0c/fc2e007d9a992d997f04a80125b0f183da7fb554f1de701bbb70a8e7d479/pyparsing-2.4.5-py2.py3-none-any.whl\n",
      "Collecting kiwisolver>=1.0.1 (from matplotlib<3.1.0,>=2.1.1->multiqc==1.8.dev0)\n",
      "  Using cached https://files.pythonhosted.org/packages/49/5d/d1726d2a2fd471a69ef5014ca42812e1ccb8a13085c42bfcb238a5611f39/kiwisolver-1.1.0-cp36-cp36m-macosx_10_6_intel.macosx_10_9_intel.macosx_10_9_x86_64.macosx_10_10_intel.macosx_10_10_x86_64.whl\n",
      "Collecting python-dateutil>=2.1 (from matplotlib<3.1.0,>=2.1.1->multiqc==1.8.dev0)\n",
      "  Using cached https://files.pythonhosted.org/packages/d4/70/d60450c3dd48ef87586924207ae8907090de0b306af2bce5d134d78615cb/python_dateutil-2.8.1-py2.py3-none-any.whl\n",
      "Collecting decorator>=4.3.0 (from networkx->multiqc==1.8.dev0)\n",
      "  Using cached https://files.pythonhosted.org/packages/8f/b7/f329cfdc75f3d28d12c65980e4469e2fa373f1953f5df6e370e84ea2e875/decorator-4.4.1-py2.py3-none-any.whl\n",
      "Collecting certifi>=2017.4.17 (from requests->multiqc==1.8.dev0)\n",
      "  Using cached https://files.pythonhosted.org/packages/18/b0/8146a4f8dd402f60744fa380bc73ca47303cccf8b9190fd16a827281eac2/certifi-2019.9.11-py2.py3-none-any.whl\n",
      "Collecting chardet<3.1.0,>=3.0.2 (from requests->multiqc==1.8.dev0)\n",
      "  Using cached https://files.pythonhosted.org/packages/bc/a9/01ffebfb562e4274b6487b4bb1ddec7ca55ec7510b22e4c51f14098443b8/chardet-3.0.4-py2.py3-none-any.whl\n",
      "Collecting idna<2.9,>=2.5 (from requests->multiqc==1.8.dev0)\n",
      "  Using cached https://files.pythonhosted.org/packages/14/2c/cd551d81dbe15200be1cf41cd03869a46fe7226e7450af7a6545bfc474c9/idna-2.8-py2.py3-none-any.whl\n",
      "Collecting urllib3!=1.25.0,!=1.25.1,<1.26,>=1.21.1 (from requests->multiqc==1.8.dev0)\n",
      "  Using cached https://files.pythonhosted.org/packages/b4/40/a9837291310ee1ccc242ceb6ebfd9eb21539649f193a7c8c86ba15b98539/urllib3-1.25.7-py2.py3-none-any.whl\n",
      "Collecting colormath>=3.0.0 (from spectra>=0.0.10->multiqc==1.8.dev0)\n",
      "Collecting six (from cycler>=0.10->matplotlib<3.1.0,>=2.1.1->multiqc==1.8.dev0)\n",
      "  Using cached https://files.pythonhosted.org/packages/65/26/32b8464df2a97e6dd1b656ed26b2c194606c16fe163c695a992b36c11cdf/six-1.13.0-py2.py3-none-any.whl\n",
      "Building wheels for collected packages: multiqc\n",
      "  Building wheel for multiqc (setup.py) ... \u001b[?25ldone\n",
      "\u001b[?25h  Stored in directory: /private/var/folders/tk/k7tjvpqs0tbfd0bzvt4htrzh0000gn/T/pip-ephem-wheel-cache-wy_6jf6s/wheels/6b/46/2f/3efddef001e00a278ecc722a2caa45b408c684b363ce55678b\n",
      "Successfully built multiqc\n",
      "Installing collected packages: click, humanfriendly, coloredlogs, future, MarkupSafe, jinja2, lzstring, setuptools, markdown, six, cycler, pyparsing, kiwisolver, python-dateutil, numpy, matplotlib, decorator, networkx, pyyaml, certifi, chardet, idna, urllib3, requests, simplejson, colormath, spectra, multiqc\n",
      "  Found existing installation: Click 7.0\n",
      "    Uninstalling Click-7.0:\n",
      "      Successfully uninstalled Click-7.0\n",
      "  Found existing installation: humanfriendly 4.18\n",
      "    Uninstalling humanfriendly-4.18:\n",
      "      Successfully uninstalled humanfriendly-4.18\n",
      "  Found existing installation: coloredlogs 10.0\n",
      "    Uninstalling coloredlogs-10.0:\n",
      "      Successfully uninstalled coloredlogs-10.0\n",
      "  Found existing installation: future 0.18.2\n",
      "    Uninstalling future-0.18.2:\n",
      "      Successfully uninstalled future-0.18.2\n",
      "  Found existing installation: MarkupSafe 1.1.1\n",
      "    Uninstalling MarkupSafe-1.1.1:\n",
      "      Successfully uninstalled MarkupSafe-1.1.1\n",
      "  Found existing installation: Jinja2 2.10.3\n",
      "    Uninstalling Jinja2-2.10.3:\n",
      "      Successfully uninstalled Jinja2-2.10.3\n",
      "  Found existing installation: lzstring 1.0.4\n",
      "    Uninstalling lzstring-1.0.4:\n",
      "      Successfully uninstalled lzstring-1.0.4\n",
      "  Found existing installation: setuptools 41.6.0\n",
      "    Uninstalling setuptools-41.6.0:\n",
      "      Successfully uninstalled setuptools-41.6.0\n",
      "  Found existing installation: Markdown 3.1.1\n",
      "    Uninstalling Markdown-3.1.1:\n",
      "      Successfully uninstalled Markdown-3.1.1\n",
      "  Found existing installation: six 1.13.0\n",
      "    Uninstalling six-1.13.0:\n",
      "      Successfully uninstalled six-1.13.0\n",
      "  Found existing installation: cycler 0.10.0\n",
      "    Uninstalling cycler-0.10.0:\n",
      "      Successfully uninstalled cycler-0.10.0\n",
      "  Found existing installation: pyparsing 2.4.5\n",
      "    Uninstalling pyparsing-2.4.5:\n",
      "      Successfully uninstalled pyparsing-2.4.5\n",
      "  Found existing installation: kiwisolver 1.1.0\n",
      "    Uninstalling kiwisolver-1.1.0:\n",
      "      Successfully uninstalled kiwisolver-1.1.0\n",
      "  Found existing installation: python-dateutil 2.8.1\n",
      "    Uninstalling python-dateutil-2.8.1:\n",
      "      Successfully uninstalled python-dateutil-2.8.1\n",
      "  Found existing installation: numpy 1.17.4\n",
      "    Uninstalling numpy-1.17.4:\n",
      "      Successfully uninstalled numpy-1.17.4\n",
      "  Found existing installation: matplotlib 3.0.3\n",
      "    Uninstalling matplotlib-3.0.3:\n",
      "      Successfully uninstalled matplotlib-3.0.3\n",
      "  Found existing installation: decorator 4.4.1\n",
      "    Uninstalling decorator-4.4.1:\n",
      "      Successfully uninstalled decorator-4.4.1\n",
      "  Found existing installation: networkx 2.4\n",
      "    Uninstalling networkx-2.4:\n",
      "      Successfully uninstalled networkx-2.4\n",
      "  Found existing installation: PyYAML 5.1.2\n",
      "    Uninstalling PyYAML-5.1.2:\n",
      "      Successfully uninstalled PyYAML-5.1.2\n",
      "  Found existing installation: certifi 2019.3.9\n",
      "\u001b[31mERROR: Cannot uninstall 'certifi'. It is a distutils installed project and thus we cannot accurately determine which files belong to it which would lead to only a partial uninstall.\u001b[0m\n",
      "Note: you may need to restart the kernel to use updated packages.\n"
     ]
    }
   ],
   "source": [
    "%pip install --force-reinstall --upgrade git+https://github.com/ewels/MultiQC.git"
   ]
  },
  {
   "cell_type": "markdown",
   "metadata": {},
   "source": [
    "> NB: You will probably need to restart the notebook kernal after installing MultiQC\n",
    "\n",
    "Now let's import the `multiqc` package into your workbook:"
   ]
  },
  {
   "cell_type": "code",
   "execution_count": 2,
   "metadata": {},
   "outputs": [],
   "source": [
    "import multiqc"
   ]
  },
  {
   "cell_type": "markdown",
   "metadata": {},
   "source": [
    "Great! Now let's check that it's working properly by printing the version that we're using:"
   ]
  },
  {
   "cell_type": "code",
   "execution_count": 3,
   "metadata": {},
   "outputs": [
    {
     "name": "stdout",
     "output_type": "stream",
     "text": [
      "1.8.dev0 (73b81af)\n"
     ]
    }
   ],
   "source": [
    "print(multiqc.__version__)"
   ]
  },
  {
   "cell_type": "markdown",
   "metadata": {},
   "source": [
    "Before we can use any outputs from MultiQC, we must first run it on some data. The [MultiQC website](https://multiqc.info/) has the logs used for all of the example reports on the homepage available for download, so let's grab the files for the RNA-seq report."
   ]
  },
  {
   "cell_type": "code",
   "execution_count": 4,
   "metadata": {
    "collapsed": true,
    "jupyter": {
     "outputs_hidden": true
    }
   },
   "outputs": [
    {
     "name": "stdout",
     "output_type": "stream",
     "text": [
      "--2019-11-11 16:32:13--  https://multiqc.info/examples/rna-seq/data.zip\n",
      "Resolving multiqc.info (multiqc.info)... 91.238.163.174\n",
      "Connecting to multiqc.info (multiqc.info)|91.238.163.174|:443... connected.\n",
      "HTTP request sent, awaiting response... 200 OK\n",
      "Length: 18549188 (18M) [application/zip]\n",
      "Saving to: ‘data.zip’\n",
      "\n",
      "data.zip            100%[===================>]  17.69M  8.40MB/s    in 2.1s    \n",
      "\n",
      "2019-11-11 16:32:15 (8.40 MB/s) - ‘data.zip’ saved [18549188/18549188]\n",
      "\n",
      "Archive:  data.zip\n",
      "   creating: data/\n",
      "  inflating: data/fastqc_theoretical_gc_hg38_txome.txt  \n",
      "  inflating: data/SRR3192396_1.fastq.gz_trimming_report.txt  \n",
      "  inflating: data/SRR3192396_1_fastqc.html  \n",
      "  inflating: data/SRR3192396_1_fastqc.zip  \n",
      "  inflating: data/SRR3192396_1_star_aligned.bam_counts.txt.summary  \n",
      "  inflating: data/SRR3192396_1_val_1_fastqc.html  \n",
      "  inflating: data/SRR3192396_1_val_1_fastqc.zip  \n",
      "  inflating: data/SRR3192396_1Log.final.out  \n",
      "  inflating: data/SRR3192396_1Log.out  \n",
      "  inflating: data/SRR3192396_1Log.progress.out  \n",
      "  inflating: data/SRR3192396_1Log.std.out  \n",
      "  inflating: data/SRR3192396_2.fastq.gz_trimming_report.txt  \n",
      "  inflating: data/SRR3192396_2_fastqc.html  \n",
      "  inflating: data/SRR3192396_2_fastqc.zip  \n",
      "  inflating: data/SRR3192396_2_val_2_fastqc.html  \n",
      "  inflating: data/SRR3192396_2_val_2_fastqc.zip  \n",
      "  inflating: data/SRR3192397_1.fastq.gz_trimming_report.txt  \n",
      "  inflating: data/SRR3192397_1_fastqc.html  \n",
      "  inflating: data/SRR3192397_1_fastqc.zip  \n",
      "  inflating: data/SRR3192397_1_star_aligned.bam_counts.txt.summary  \n",
      "  inflating: data/SRR3192397_1_val_1_fastqc.html  \n",
      "  inflating: data/SRR3192397_1_val_1_fastqc.zip  \n",
      "  inflating: data/SRR3192397_1Log.final.out  \n",
      "  inflating: data/SRR3192397_1Log.out  \n",
      "  inflating: data/SRR3192397_1Log.progress.out  \n",
      "  inflating: data/SRR3192397_1Log.std.out  \n",
      "  inflating: data/SRR3192397_2.fastq.gz_trimming_report.txt  \n",
      "  inflating: data/SRR3192397_2_fastqc.html  \n",
      "  inflating: data/SRR3192397_2_fastqc.zip  \n",
      "  inflating: data/SRR3192397_2_val_2_fastqc.html  \n",
      "  inflating: data/SRR3192397_2_val_2_fastqc.zip  \n",
      "  inflating: data/SRR3192398_1.fastq.gz_trimming_report.txt  \n",
      "  inflating: data/SRR3192398_1_fastqc.html  \n",
      "  inflating: data/SRR3192398_1_fastqc.zip  \n",
      "  inflating: data/SRR3192398_1_star_aligned.bam_counts.txt.summary  \n",
      "  inflating: data/SRR3192398_1_val_1_fastqc.html  \n",
      "  inflating: data/SRR3192398_1_val_1_fastqc.zip  \n",
      "  inflating: data/SRR3192398_1Log.final.out  \n",
      "  inflating: data/SRR3192398_1Log.out  \n",
      "  inflating: data/SRR3192398_1Log.progress.out  \n",
      "  inflating: data/SRR3192398_1Log.std.out  \n",
      "  inflating: data/SRR3192398_2.fastq.gz_trimming_report.txt  \n",
      "  inflating: data/SRR3192398_2_fastqc.html  \n",
      "  inflating: data/SRR3192398_2_fastqc.zip  \n",
      "  inflating: data/SRR3192398_2_val_2_fastqc.html  \n",
      "  inflating: data/SRR3192398_2_val_2_fastqc.zip  \n",
      "  inflating: data/SRR3192399_1.fastq.gz_trimming_report.txt  \n",
      "  inflating: data/SRR3192399_1_fastqc.html  \n",
      "  inflating: data/SRR3192399_1_fastqc.zip  \n",
      "  inflating: data/SRR3192399_1_star_aligned.bam_counts.txt.summary  \n",
      "  inflating: data/SRR3192399_1_val_1_fastqc.html  \n",
      "  inflating: data/SRR3192399_1_val_1_fastqc.zip  \n",
      "  inflating: data/SRR3192399_1Log.final.out  \n",
      "  inflating: data/SRR3192399_1Log.out  \n",
      "  inflating: data/SRR3192399_1Log.progress.out  \n",
      "  inflating: data/SRR3192399_1Log.std.out  \n",
      "  inflating: data/SRR3192399_2.fastq.gz_trimming_report.txt  \n",
      "  inflating: data/SRR3192399_2_fastqc.html  \n",
      "  inflating: data/SRR3192399_2_fastqc.zip  \n",
      "  inflating: data/SRR3192399_2_val_2_fastqc.html  \n",
      "  inflating: data/SRR3192399_2_val_2_fastqc.zip  \n",
      "  inflating: data/SRR3192400_1.fastq.gz_trimming_report.txt  \n",
      "  inflating: data/SRR3192400_1_fastqc.html  \n",
      "  inflating: data/SRR3192400_1_fastqc.zip  \n",
      "  inflating: data/SRR3192400_1_star_aligned.bam_counts.txt.summary  \n",
      "  inflating: data/SRR3192400_1_val_1_fastqc.html  \n",
      "  inflating: data/SRR3192400_1_val_1_fastqc.zip  \n",
      "  inflating: data/SRR3192400_1Log.final.out  \n",
      "  inflating: data/SRR3192400_1Log.out  \n",
      "  inflating: data/SRR3192400_1Log.progress.out  \n",
      "  inflating: data/SRR3192400_1Log.std.out  \n",
      "  inflating: data/SRR3192400_2.fastq.gz_trimming_report.txt  \n",
      "  inflating: data/SRR3192400_2_fastqc.html  \n",
      "  inflating: data/SRR3192400_2_fastqc.zip  \n",
      "  inflating: data/SRR3192400_2_val_2_fastqc.html  \n",
      "  inflating: data/SRR3192400_2_val_2_fastqc.zip  \n",
      "  inflating: data/SRR3192401_1.fastq.gz_trimming_report.txt  \n",
      "  inflating: data/SRR3192401_1_fastqc.html  \n",
      "  inflating: data/SRR3192401_1_fastqc.zip  \n",
      "  inflating: data/SRR3192401_1_star_aligned.bam_counts.txt.summary  \n",
      "  inflating: data/SRR3192401_1_val_1_fastqc.html  \n",
      "  inflating: data/SRR3192401_1_val_1_fastqc.zip  \n",
      "  inflating: data/SRR3192401_1Log.final.out  \n",
      "  inflating: data/SRR3192401_1Log.out  \n",
      "  inflating: data/SRR3192401_1Log.progress.out  \n",
      "  inflating: data/SRR3192401_1Log.std.out  \n",
      "  inflating: data/SRR3192401_2.fastq.gz_trimming_report.txt  \n",
      "  inflating: data/SRR3192401_2_fastqc.html  \n",
      "  inflating: data/SRR3192401_2_fastqc.zip  \n",
      "  inflating: data/SRR3192401_2_val_2_fastqc.html  \n",
      "  inflating: data/SRR3192401_2_val_2_fastqc.zip  \n",
      "  inflating: data/SRR3192657_1.fastq.gz_trimming_report.txt  \n",
      "  inflating: data/SRR3192657_1_fastqc.html  \n",
      "  inflating: data/SRR3192657_1_fastqc.zip  \n",
      "  inflating: data/SRR3192657_1_star_aligned.bam_counts.txt.summary  \n",
      "  inflating: data/SRR3192657_1_val_1_fastqc.html  \n",
      "  inflating: data/SRR3192657_1_val_1_fastqc.zip  \n",
      "  inflating: data/SRR3192657_1Log.final.out  \n",
      "  inflating: data/SRR3192657_1Log.out  \n",
      "  inflating: data/SRR3192657_1Log.progress.out  \n",
      "  inflating: data/SRR3192657_1Log.std.out  \n",
      "  inflating: data/SRR3192657_2.fastq.gz_trimming_report.txt  \n",
      "  inflating: data/SRR3192657_2_fastqc.html  \n",
      "  inflating: data/SRR3192657_2_fastqc.zip  \n",
      "  inflating: data/SRR3192657_2_val_2_fastqc.html  \n",
      "  inflating: data/SRR3192657_2_val_2_fastqc.zip  \n",
      "  inflating: data/SRR3192658_1.fastq.gz_trimming_report.txt  \n",
      "  inflating: data/SRR3192658_1_fastqc.html  \n",
      "  inflating: data/SRR3192658_1_fastqc.zip  \n",
      "  inflating: data/SRR3192658_1_star_aligned.bam_counts.txt.summary  \n",
      "  inflating: data/SRR3192658_1_val_1_fastqc.html  \n",
      "  inflating: data/SRR3192658_1_val_1_fastqc.zip  \n",
      "  inflating: data/SRR3192658_1Log.final.out  \n",
      "  inflating: data/SRR3192658_1Log.out  \n",
      "  inflating: data/SRR3192658_1Log.progress.out  \n",
      "  inflating: data/SRR3192658_1Log.std.out  \n",
      "  inflating: data/SRR3192658_2.fastq.gz_trimming_report.txt  \n",
      "  inflating: data/SRR3192658_2_fastqc.html  \n",
      "  inflating: data/SRR3192658_2_fastqc.zip  \n",
      "  inflating: data/SRR3192658_2_val_2_fastqc.html  \n",
      "  inflating: data/SRR3192658_2_val_2_fastqc.zip  \n"
     ]
    }
   ],
   "source": [
    "!wget https://multiqc.info/examples/rna-seq/data.zip\n",
    "!unzip -o data.zip\n",
    "!rm data.zip"
   ]
  },
  {
   "cell_type": "markdown",
   "metadata": {},
   "source": [
    "You should now see a folder called `data/` in your notebook work directory with a bunch of log files within from a typical RNA-seq analysis run.\n",
    "\n",
    "Now let's run MultiQC on those files."
   ]
  },
  {
   "cell_type": "code",
   "execution_count": 5,
   "metadata": {},
   "outputs": [
    {
     "name": "stderr",
     "output_type": "stream",
     "text": [
      "[INFO   ]         multiqc : This is MultiQC v1.8.dev0 (73b81af)\n",
      "[INFO   ]         multiqc : Template    : default\n",
      "[INFO   ]         multiqc : Searching   : /Users/philewels/GitHub/MultiQC_Notebook/data\n",
      "[ERROR  ]         multiqc : Oops! The 'seqyclean' MultiQC module broke... \n",
      "  Please copy the following traceback and report it at https://github.com/ewels/MultiQC/issues \n",
      "  If possible, please include a log file that triggers the error - the last file found was:\n",
      "    None\n",
      "============================================================\n",
      "Module seqyclean raised an exception: Traceback (most recent call last):\n",
      "  File \"/Users/philewels/miniconda2/envs/altair/lib/python3.6/site-packages/pkg_resources/__init__.py\", line 2451, in resolve\n",
      "    return functools.reduce(getattr, self.attrs, module)\n",
      "AttributeError: module 'multiqc.modules.seqyclean' has no attribute 'MultiqcModule'\n",
      "\n",
      "During handling of the above exception, another exception occurred:\n",
      "\n",
      "Traceback (most recent call last):\n",
      "  File \"/Users/philewels/GitHub/MultiQC/multiqc/multiqc.py\", line 541, in run\n",
      "    mod = config.avail_modules[this_module].load()\n",
      "  File \"/Users/philewels/miniconda2/envs/altair/lib/python3.6/site-packages/pkg_resources/__init__.py\", line 2443, in load\n",
      "    return self.resolve()\n",
      "  File \"/Users/philewels/miniconda2/envs/altair/lib/python3.6/site-packages/pkg_resources/__init__.py\", line 2453, in resolve\n",
      "    raise ImportError(str(exc))\n",
      "ImportError: module 'multiqc.modules.seqyclean' has no attribute 'MultiqcModule'\n",
      "============================================================\n",
      "[INFO   ]  feature_counts : Found 8 reports\n",
      "[INFO   ]            star : Found 8 reports\n",
      "[INFO   ]        cutadapt : Found 16 reports\n",
      "[INFO   ]          fastqc : Found 32 reports\n",
      "[INFO   ]         multiqc : Compressing plot data\n",
      "[ERROR  ]          megaqc : Couldn't connect to MegaQC URL http://127.0.0.1:5000/api/upload_data\n",
      "[INFO   ]         multiqc : Report      : multiqc_report.html\n",
      "[INFO   ]         multiqc : Data        : multiqc_data\n",
      "[INFO   ]         multiqc : MultiQC complete\n"
     ]
    },
    {
     "ename": "SystemExit",
     "evalue": "1",
     "output_type": "error",
     "traceback": [
      "An exception has occurred, use %tb to see the full traceback.\n",
      "\u001b[0;31mSystemExit\u001b[0m\u001b[0;31m:\u001b[0m 1\n"
     ]
    },
    {
     "name": "stderr",
     "output_type": "stream",
     "text": [
      "/Users/philewels/miniconda2/envs/altair/lib/python3.6/site-packages/IPython/core/interactiveshell.py:3304: UserWarning: To exit: use 'exit', 'quit', or Ctrl-D.\n",
      "  warn(\"To exit: use 'exit', 'quit', or Ctrl-D.\", stacklevel=1)\n"
     ]
    }
   ],
   "source": [
    "multiqc.run('./data/')"
   ]
  },
  {
   "cell_type": "markdown",
   "metadata": {},
   "source": [
    "Ok great! Now we have a report, we can show it inside the notebook.\n",
    "\n",
    "> Note that we use `IFrame` and not `HTML` - this is because Jupyter has lots of its own CSS and JavaScript which doesn't play well with MultiQC."
   ]
  },
  {
   "cell_type": "code",
   "execution_count": 6,
   "metadata": {},
   "outputs": [
    {
     "data": {
      "text/html": [
       "\n",
       "        <iframe\n",
       "            width=\"100%\"\n",
       "            height=\"600\"\n",
       "            src=\"./multiqc_report.html\"\n",
       "            frameborder=\"0\"\n",
       "            allowfullscreen\n",
       "        ></iframe>\n",
       "        "
      ],
      "text/plain": [
       "<IPython.lib.display.IFrame at 0x1093cbfd0>"
      ]
     },
     "execution_count": 6,
     "metadata": {},
     "output_type": "execute_result"
    }
   ],
   "source": [
    "from IPython.display import IFrame\n",
    "IFrame('./multiqc_report.html', '100%', 600)"
   ]
  },
  {
   "cell_type": "code",
   "execution_count": null,
   "metadata": {},
   "outputs": [],
   "source": []
  }
 ],
 "metadata": {
  "kernelspec": {
   "display_name": "Python 3",
   "language": "python",
   "name": "python3"
  },
  "language_info": {
   "codemirror_mode": {
    "name": "ipython",
    "version": 3
   },
   "file_extension": ".py",
   "mimetype": "text/x-python",
   "name": "python",
   "nbconvert_exporter": "python",
   "pygments_lexer": "ipython3",
   "version": "3.6.7"
  }
 },
 "nbformat": 4,
 "nbformat_minor": 4
}
